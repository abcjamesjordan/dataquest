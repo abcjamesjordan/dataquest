{
 "cells": [
  {
   "cell_type": "markdown",
   "metadata": {},
   "source": [
    "# Data Analysis of Andorid and iOS Mobile Apps\n",
    "\n",
    "This project is focused on doing data analysis for a hypothetical company that makes mobile apps. These apps provide revenue for the company via the adds that users load. In summary the more users the company has the more revenue it gains from them through the adds in the apps. Our goal for this project is to do some data analysis on these apps to find a way the company could bring more users into using their apps."
   ]
  },
  {
   "cell_type": "code",
   "execution_count": 143,
   "metadata": {
    "collapsed": false
   },
   "outputs": [],
   "source": [
    "from csv import reader\n",
    "\n",
    "### The Google Play data set ###\n",
    "opened_file = open('googleplaystore.csv')\n",
    "read_file = reader(opened_file)\n",
    "android = list(read_file)\n",
    "android_header = android[0]\n",
    "android = android[1:]\n",
    "\n",
    "### The App Store data set ###\n",
    "opened_file = open('AppleStore.csv')\n",
    "read_file = reader(opened_file)\n",
    "ios = list(read_file)\n",
    "ios_header = ios[0]\n",
    "ios = ios[1:]"
   ]
  },
  {
   "cell_type": "markdown",
   "metadata": {},
   "source": [
    "Writing the explore_data set function to explore only a few csv entries at a time and explore how big this dataset is."
   ]
  },
  {
   "cell_type": "code",
   "execution_count": 144,
   "metadata": {
    "collapsed": false
   },
   "outputs": [],
   "source": [
    "def explore_data(dataset, start, end, rows_and_columns=False):\n",
    "    dataset_slice = dataset[start:end]\n",
    "    for row in dataset_slice:\n",
    "        print(row)\n",
    "        print('\\n')\n",
    "        \n",
    "    if rows_and_columns:\n",
    "        print('Number of rows:', len(dataset))\n",
    "        print('Number of columns:', len(dataset[0]))"
   ]
  },
  {
   "cell_type": "markdown",
   "metadata": {},
   "source": [
    "Since each dataset has thousands of entries we only want to take a peak at the data to try and get a sense of what we are dealing with. The explore_data function will be used to print out the first 3 rows of each dataset below."
   ]
  },
  {
   "cell_type": "code",
   "execution_count": 145,
   "metadata": {
    "collapsed": false
   },
   "outputs": [
    {
     "name": "stdout",
     "output_type": "stream",
     "text": [
      "['Photo Editor & Candy Camera & Grid & ScrapBook', 'ART_AND_DESIGN', '4.1', '159', '19M', '10,000+', 'Free', '0', 'Everyone', 'Art & Design', 'January 7, 2018', '1.0.0', '4.0.3 and up']\n",
      "\n",
      "\n",
      "['Coloring book moana', 'ART_AND_DESIGN', '3.9', '967', '14M', '500,000+', 'Free', '0', 'Everyone', 'Art & Design;Pretend Play', 'January 15, 2018', '2.0.0', '4.0.3 and up']\n",
      "\n",
      "\n",
      "['U Launcher Lite – FREE Live Cool Themes, Hide Apps', 'ART_AND_DESIGN', '4.7', '87510', '8.7M', '5,000,000+', 'Free', '0', 'Everyone', 'Art & Design', 'August 1, 2018', '1.2.4', '4.0.3 and up']\n",
      "\n",
      "\n",
      "Number of rows: 10841\n",
      "Number of columns: 13\n",
      "['284882215', 'Facebook', '389879808', 'USD', '0.0', '2974676', '212', '3.5', '3.5', '95.0', '4+', 'Social Networking', '37', '1', '29', '1']\n",
      "\n",
      "\n",
      "['389801252', 'Instagram', '113954816', 'USD', '0.0', '2161558', '1289', '4.5', '4.0', '10.23', '12+', 'Photo & Video', '37', '0', '29', '1']\n",
      "\n",
      "\n",
      "['529479190', 'Clash of Clans', '116476928', 'USD', '0.0', '2130805', '579', '4.5', '4.5', '9.24.12', '9+', 'Games', '38', '5', '18', '1']\n",
      "\n",
      "\n",
      "Number of rows: 7197\n",
      "Number of columns: 16\n"
     ]
    }
   ],
   "source": [
    "explore_data(android, 0, 3, rows_and_columns=True)\n",
    "explore_data(ios, 0, 3, rows_and_columns=True)"
   ]
  },
  {
   "cell_type": "markdown",
   "metadata": {},
   "source": [
    "### Finding useful columns for data analysis:\n",
    "\n",
    "Below we have printed what each of the columns mean for both the android and ios datasets. Some of the column names like \"ipadSc_urls.num\" are a bit ambiguous to the user. To help with this a link to the datasets on Kaggle have been included below.\n",
    "\n",
    "Android: https://www.kaggle.com/lava18/google-play-store-apps\n",
    "<br>\n",
    "iOS: https://www.kaggle.com/ramamet4/app-store-apple-data-set-10k-apps"
   ]
  },
  {
   "cell_type": "code",
   "execution_count": 146,
   "metadata": {
    "collapsed": false
   },
   "outputs": [
    {
     "name": "stdout",
     "output_type": "stream",
     "text": [
      "['App', 'Category', 'Rating', 'Reviews', 'Size', 'Installs', 'Type', 'Price', 'Content Rating', 'Genres', 'Last Updated', 'Current Ver', 'Android Ver']\n",
      "\n",
      "\n",
      "['id', 'track_name', 'size_bytes', 'currency', 'price', 'rating_count_tot', 'rating_count_ver', 'user_rating', 'user_rating_ver', 'ver', 'cont_rating', 'prime_genre', 'sup_devices.num', 'ipadSc_urls.num', 'lang.num', 'vpp_lic']\n"
     ]
    }
   ],
   "source": [
    "print(android_header)\n",
    "print('\\n')\n",
    "print(ios_header)"
   ]
  },
  {
   "cell_type": "markdown",
   "metadata": {},
   "source": [
    "## Data Cleaning:\n",
    "\n",
    "When performing data analysis on any dataset you must first do your due diligence to ensure the data is clean. Clean means the dataset does not contain duplicates, errors, incorrectly inputed data, missing data and data that satifies all the requirements for what you are doing the data analysis on. For this project it only doing analysis on free English apps since this company only makes free apps within the United States. So below are some of the steps to be done:\n",
    "\n",
    "- Check for and remove apps with missing data\n",
    "- Check for and remove duplicates\n",
    "- Remove non-English apps\n",
    "- Remove apps that are not free"
   ]
  },
  {
   "cell_type": "markdown",
   "metadata": {},
   "source": [
    "### Missing Data\n",
    "\n",
    "Removal of missing data. Android Only"
   ]
  },
  {
   "cell_type": "code",
   "execution_count": 147,
   "metadata": {
    "collapsed": false
   },
   "outputs": [
    {
     "name": "stdout",
     "output_type": "stream",
     "text": [
      "['Life Made WI-Fi Touchscreen Photo Frame', '1.9', '19', '3.0M', '1,000+', 'Free', '0', 'Everyone', '', 'February 11, 2018', '1.0.19', '4.0 and up']\n",
      "10472\n"
     ]
    }
   ],
   "source": [
    "def find_missing(csv_file, csv_header):\n",
    "    for row in csv_file:\n",
    "        if len(row) != len(csv_header):\n",
    "            print(row)\n",
    "            print(csv_file.index(row))\n",
    "\n",
    "find_missing(android, android_header)\n",
    "find_missing(ios, ios_header)"
   ]
  },
  {
   "cell_type": "code",
   "execution_count": 148,
   "metadata": {
    "collapsed": false
   },
   "outputs": [
    {
     "name": "stdout",
     "output_type": "stream",
     "text": [
      "['Xposed Wi-Fi-Pwd', 'PERSONALIZATION', '3.5', '1042', '404k', '100,000+', 'Free', '0', 'Everyone', 'Personalization', 'August 5, 2014', '3.0.0', '4.0.3 and up']\n",
      "\n",
      "\n",
      "['Life Made WI-Fi Touchscreen Photo Frame', '1.9', '19', '3.0M', '1,000+', 'Free', '0', 'Everyone', '', 'February 11, 2018', '1.0.19', '4.0 and up']\n",
      "\n",
      "\n",
      "['Xposed Wi-Fi-Pwd', 'PERSONALIZATION', '3.5', '1042', '404k', '100,000+', 'Free', '0', 'Everyone', 'Personalization', 'August 5, 2014', '3.0.0', '4.0.3 and up']\n",
      "\n",
      "\n",
      "['osmino Wi-Fi: free WiFi', 'TOOLS', '4.2', '134203', '4.1M', '10,000,000+', 'Free', '0', 'Everyone', 'Tools', 'August 7, 2018', '6.06.14', '4.4 and up']\n",
      "\n",
      "\n"
     ]
    }
   ],
   "source": [
    "explore_data(android, 10471, 10473)\n",
    "del(android[10472])\n",
    "explore_data(android, 10471, 10473)"
   ]
  },
  {
   "cell_type": "markdown",
   "metadata": {},
   "source": [
    "### Duplicate Entries\n",
    "\n",
    "Here the data set is investigated to determine if it has duplicate entries. A function is written to show that the data does in fact have duplicate entries. These entries will be dealt with on the basis of comparing the number of reviews for each app. The app entries were collected at various times, so assuming they are the same, the one with the more reviews will be assumed to be the latest version of that app.\n",
    "<br>"
   ]
  },
  {
   "cell_type": "code",
   "execution_count": 149,
   "metadata": {
    "collapsed": false
   },
   "outputs": [
    {
     "name": "stdout",
     "output_type": "stream",
     "text": [
      "Number of Android duplicate apps: 1181\n",
      "Examples of Android duplicate apps: ['Quick PDF Scanner + OCR FREE', 'Box', 'Google My Business', 'ZOOM Cloud Meetings', 'join.me - Simple Meetings']\n",
      "\n",
      "\n",
      "Number of iOS duplicate apps: 2\n",
      "Examples of iOS duplicate apps: ['Mannequin Challenge', 'VR Roller Coaster']\n"
     ]
    }
   ],
   "source": [
    "def find_duplicate(csv_file, csv_header, name_col):\n",
    "    duplicate_apps = []\n",
    "    unique_apps = []\n",
    "    for row in csv_file:\n",
    "        name = row[name_col]\n",
    "        if name in unique_apps:\n",
    "            duplicate_apps.append(name)\n",
    "        else:\n",
    "            unique_apps.append(name)\n",
    "    return unique_apps, duplicate_apps\n",
    "            \n",
    "unique_android_apps, duplicate_android_apps = find_duplicate(android, android_header, 0)\n",
    "print('Number of Android duplicate apps:', len(duplicate_android_apps))\n",
    "print('Examples of Android duplicate apps:', duplicate_android_apps[:5])\n",
    "print('\\n')\n",
    "\n",
    "unique_ios_apps, duplicate_ios_apps = find_duplicate(ios, ios_header, 1)\n",
    "print('Number of iOS duplicate apps:', len(duplicate_ios_apps))\n",
    "print('Examples of iOS duplicate apps:', duplicate_ios_apps[:5])"
   ]
  },
  {
   "cell_type": "code",
   "execution_count": 150,
   "metadata": {
    "collapsed": false
   },
   "outputs": [
    {
     "name": "stdout",
     "output_type": "stream",
     "text": [
      "Expected length of cleaned android: 9659\n",
      "Actual length of cleaned android: 9659\n",
      "\n",
      "\n",
      "Expected length of cleaned ios: 7195\n",
      "Actual length of cleaned ios: 7195\n"
     ]
    }
   ],
   "source": [
    "def remove_duplicates(csv_file, name_col, n_reviews_col):\n",
    "    reviews_max = {}\n",
    "    clean_list = []\n",
    "    already_added = []\n",
    "    \n",
    "    for row in csv_file:\n",
    "        name = row[name_col]\n",
    "        n_reviews = row[n_reviews_col]\n",
    "        \n",
    "        if name in reviews_max and reviews_max[name] < n_reviews:\n",
    "            reviews_max[name] = n_reviews\n",
    "        elif name not in reviews_max:\n",
    "            reviews_max[name] = n_reviews\n",
    "            \n",
    "    for row in csv_file:\n",
    "        name = row[name_col]\n",
    "        n_reviews = row[n_reviews_col]\n",
    "        \n",
    "        if (reviews_max[name] == n_reviews) and (name not in already_added):\n",
    "            clean_list.append(row)\n",
    "            already_added.append(name)\n",
    "    return clean_list\n",
    "\n",
    "\n",
    "android_clean = remove_duplicates(android, 0, 3)\n",
    "ios_clean = remove_duplicates(ios, 1, 5)\n",
    "\n",
    "print('Expected length of cleaned android:', len(android) - len(duplicate_android_apps))\n",
    "print('Actual length of cleaned android:', len(android_clean))\n",
    "print('\\n')\n",
    "print('Expected length of cleaned ios:', len(ios) - len(duplicate_ios_apps))\n",
    "print('Actual length of cleaned ios:', len(ios_clean))\n",
    "        "
   ]
  },
  {
   "cell_type": "markdown",
   "metadata": {
    "collapsed": true
   },
   "source": [
    "### Removing Non-English Apps\n",
    "\n",
    "Above we can see that the last app listed in the cleaned iOS apps has one listed that is clearly not in English. Both 'cleaned' lists now need to have all non-English speaking apps removed from each dataset."
   ]
  },
  {
   "cell_type": "code",
   "execution_count": 151,
   "metadata": {
    "collapsed": true
   },
   "outputs": [],
   "source": [
    "def check_english(mystring):\n",
    "    mystring = list(mystring)\n",
    "    non_english_count = 0\n",
    "    for char in mystring:\n",
    "        if ord(char) > 127:\n",
    "            non_english_count +=1\n",
    "        if non_english_count > 3:\n",
    "            return False\n",
    "    return True"
   ]
  },
  {
   "cell_type": "code",
   "execution_count": 152,
   "metadata": {
    "collapsed": false
   },
   "outputs": [
    {
     "name": "stdout",
     "output_type": "stream",
     "text": [
      "Previous Android length: 9659\n",
      "Number of Non-English Apps: 45\n",
      "New English Android length: 9614\n",
      "\n",
      "\n",
      "Previous iOS length: 7195\n",
      "Number of Non-English Apps: 1012\n",
      "New English iOS length: 6183\n"
     ]
    }
   ],
   "source": [
    "def remove_non_english(csv_file, name_col):\n",
    "    english_list = []\n",
    "    for row in csv_file:\n",
    "        name = row[name_col]\n",
    "        if check_english(name):\n",
    "            english_list.append(row)\n",
    "    return english_list\n",
    "\n",
    "android_english = remove_non_english(android_clean, 0)\n",
    "ios_english = remove_non_english(ios, 1)\n",
    "\n",
    "print('Previous Android length:', len(android_clean))\n",
    "print('Number of Non-English Apps:', len(android_clean) - len(android_english))\n",
    "print('New English Android length:', len(android_english))\n",
    "print('\\n')\n",
    "print('Previous iOS length:', len(ios_clean))\n",
    "print('Number of Non-English Apps:', len(ios_clean) - len(ios_english))\n",
    "print('New English iOS length:', len(ios_english))"
   ]
  },
  {
   "cell_type": "markdown",
   "metadata": {
    "collapsed": true
   },
   "source": [
    "### Remove Apps That Are Not Free\n",
    "\n",
    "Finally in the data cleaning process, apps that are not free must be removed. The hypothetical company only creates apps that are free. So any analysis done on paid apps will not be of use for us during this project."
   ]
  },
  {
   "cell_type": "code",
   "execution_count": 153,
   "metadata": {
    "collapsed": false
   },
   "outputs": [
    {
     "name": "stdout",
     "output_type": "stream",
     "text": [
      "Number of free android apps: 8862\n",
      "Number of free iOS apps: 3222\n"
     ]
    }
   ],
   "source": [
    "def remove_paid_apps(csv_file, price_col):\n",
    "    freeapps = []\n",
    "    for row in csv_file:\n",
    "        price = row[price_col]\n",
    "        if price == '0' or price == '0.0':\n",
    "            freeapps.append(row)\n",
    "    return freeapps\n",
    "\n",
    "android_free = remove_paid_apps(android_english, 7)\n",
    "ios_free = remove_paid_apps(ios_english, 4)\n",
    "print('Number of free android apps:', len(android_free))\n",
    "print('Number of free iOS apps:', len(ios_free))"
   ]
  },
  {
   "cell_type": "markdown",
   "metadata": {
    "collapsed": true
   },
   "source": [
    "## Data Analysis\n",
    "### Most Common Apps By Genre\n",
    "\n",
    "Now that the data is cleaned we can move on to the analysis to determine what app could be suggested to the company. The aim for us is to provide the company with an app that minimizes risk to the company while still pursuing the most likely app to become profitable. The strategy for this will be comprised of three steps:\n",
    "\n",
    "- Can be built as a minimal app on the Google Play Store\n",
    "- If it does well, can be developed further\n",
    "- If the app is profitable, can be developed into having an iOS version and deployed to the iOS App Store\n",
    "\n",
    "Because our end goal is to add the app on both Google Play and the App Store, we need to find app profiles that are successful on both markets. For instance, a profile that works well for both markets might be a productivity app that makes use of gamification.\n",
    "\n",
    "Let's begin the analysis by getting a sense of what are the most common genres for each market. For this, we'll need to build frequency tables for a few columns in our data sets."
   ]
  },
  {
   "cell_type": "markdown",
   "metadata": {
    "collapsed": true
   },
   "source": [
    "### Building Functions to Analyize Frequency Tables\n",
    "\n",
    "We'll build two functions we can use to analyze the frequency tables:\n",
    "\n",
    "- One function to generate frequency tables that show percentages\n",
    "- Another function we can use to display the percentages in a descending order\n",
    "\n"
   ]
  },
  {
   "cell_type": "code",
   "execution_count": 154,
   "metadata": {
    "collapsed": false
   },
   "outputs": [],
   "source": [
    "def freq_table(dataset, index):\n",
    "    mydict = {}\n",
    "    n_of_apps = len(dataset)\n",
    "    \n",
    "    for row in dataset:\n",
    "        if row[index] in mydict:\n",
    "            mydict[row[index]] += 1\n",
    "        else:\n",
    "            mydict[row[index]] = 1\n",
    "\n",
    "    for key, value in mydict.items():\n",
    "        mydict[key] = 100 * (value / n_of_apps)\n",
    "    \n",
    "    return mydict\n",
    "\n",
    "def display_table(dataset, index):\n",
    "    table = freq_table(dataset, index)\n",
    "    table_display = []\n",
    "    for key in table:\n",
    "        key_val_as_tuple = (table[key], key)\n",
    "        table_display.append(key_val_as_tuple)\n",
    "\n",
    "    table_sorted = sorted(table_display, reverse = True)\n",
    "    for entry in table_sorted:\n",
    "        print(entry[1], ':', entry[0])"
   ]
  },
  {
   "cell_type": "markdown",
   "metadata": {},
   "source": [
    "Now that we have a way to visualize the percentages of each category or genre we will start by looking at the categories in the iOS App Store."
   ]
  },
  {
   "cell_type": "code",
   "execution_count": 155,
   "metadata": {
    "collapsed": false
   },
   "outputs": [
    {
     "name": "stdout",
     "output_type": "stream",
     "text": [
      "Games : 58.16263190564867\n",
      "Entertainment : 7.883302296710118\n",
      "Photo & Video : 4.9658597144630665\n",
      "Education : 3.662321539416512\n",
      "Social Networking : 3.2898820608317814\n",
      "Shopping : 2.60707635009311\n",
      "Utilities : 2.5139664804469275\n",
      "Sports : 2.1415270018621975\n",
      "Music : 2.0484171322160147\n",
      "Health & Fitness : 2.0173805090006205\n",
      "Productivity : 1.7380509000620732\n",
      "Lifestyle : 1.5828677839851024\n",
      "News : 1.3345747982619491\n",
      "Travel : 1.2414649286157666\n",
      "Finance : 1.1173184357541899\n",
      "Weather : 0.8690254500310366\n",
      "Food & Drink : 0.8069522036002483\n",
      "Reference : 0.5586592178770949\n",
      "Business : 0.5276225946617008\n",
      "Book : 0.4345127250155183\n",
      "Navigation : 0.186219739292365\n",
      "Medical : 0.186219739292365\n",
      "Catalogs : 0.12414649286157665\n"
     ]
    }
   ],
   "source": [
    "display_table(ios_free, 11)"
   ]
  },
  {
   "cell_type": "markdown",
   "metadata": {},
   "source": [
    "The clear winner in the App Store is the Games category. Approximately 58% of apps in the iOS store are Games. Here we can determine that the most popular category is Games with other app categories spread out fairly evenly among the remaining percentages of apps. \n",
    "\n",
    "From this alone an app category cannot be recommended. We must first take a look at the Google Play Store apps to see what kind of apps are popular on there since our app has to do well their first before being implemented on the App Store."
   ]
  },
  {
   "cell_type": "code",
   "execution_count": 156,
   "metadata": {
    "collapsed": false
   },
   "outputs": [
    {
     "name": "stdout",
     "output_type": "stream",
     "text": [
      "FAMILY : 18.934777702550214\n",
      "GAME : 9.693071541412774\n",
      "TOOLS : 8.451816745655607\n",
      "BUSINESS : 4.5926427443015125\n",
      "LIFESTYLE : 3.9043105393816293\n",
      "PRODUCTIVITY : 3.8930264048747465\n",
      "FINANCE : 3.7011961182577298\n",
      "MEDICAL : 3.5206499661475967\n",
      "SPORTS : 3.39652448657188\n",
      "PERSONALIZATION : 3.3175355450236967\n",
      "COMMUNICATION : 3.238546603475513\n",
      "HEALTH_AND_FITNESS : 3.080568720379147\n",
      "PHOTOGRAPHY : 2.945159106296547\n",
      "NEWS_AND_MAGAZINES : 2.798465357707064\n",
      "SOCIAL : 2.663055743624464\n",
      "TRAVEL_AND_LOCAL : 2.335815842924848\n",
      "SHOPPING : 2.2455427668697814\n",
      "BOOKS_AND_REFERENCE : 2.143985556307831\n",
      "DATING : 1.8618821936357481\n",
      "VIDEO_PLAYERS : 1.7941773865944481\n",
      "MAPS_AND_NAVIGATION : 1.399232678853532\n",
      "FOOD_AND_DRINK : 1.2412547957571656\n",
      "EDUCATION : 1.1735499887158656\n",
      "ENTERTAINMENT : 0.9591514330850823\n",
      "LIBRARIES_AND_DEMO : 0.9365831640713158\n",
      "AUTO_AND_VEHICLES : 0.9252990295644324\n",
      "HOUSE_AND_HOME : 0.8237418190024826\n",
      "WEATHER : 0.8011735499887158\n",
      "EVENTS : 0.7109004739336493\n",
      "PARENTING : 0.6544798013992327\n",
      "ART_AND_DESIGN : 0.6431956668923494\n",
      "COMICS : 0.6206273978785828\n",
      "BEAUTY : 0.598059128864816\n"
     ]
    }
   ],
   "source": [
    "display_table(android_free, 1) # Category"
   ]
  },
  {
   "cell_type": "markdown",
   "metadata": {
    "collapsed": true
   },
   "source": [
    "The leading Category in the Google Play Store is much less of a clear cut winner than in the iOS App Store. There is a much larger overlap between apps that are designed for fun (games, social networking, etc) and apps that are designed for practical reasons (family, tools, business, lifestyle, finance, etc). But the family category likely means games for children rather than for other practical family reasons."
   ]
  },
  {
   "cell_type": "code",
   "execution_count": 157,
   "metadata": {
    "collapsed": false
   },
   "outputs": [
    {
     "name": "stdout",
     "output_type": "stream",
     "text": [
      "Tools : 8.440532611148726\n",
      "Entertainment : 6.070864364703228\n",
      "Education : 5.348679756262695\n",
      "Business : 4.5926427443015125\n",
      "Productivity : 3.8930264048747465\n",
      "Lifestyle : 3.8930264048747465\n",
      "Finance : 3.7011961182577298\n",
      "Medical : 3.5206499661475967\n",
      "Sports : 3.4642292936131795\n",
      "Personalization : 3.3175355450236967\n",
      "Communication : 3.238546603475513\n",
      "Action : 3.1031369893929135\n",
      "Health & Fitness : 3.080568720379147\n",
      "Photography : 2.945159106296547\n",
      "News & Magazines : 2.798465357707064\n",
      "Social : 2.663055743624464\n",
      "Travel & Local : 2.324531708417964\n",
      "Shopping : 2.2455427668697814\n",
      "Books & Reference : 2.143985556307831\n",
      "Simulation : 2.0424283457458814\n",
      "Dating : 1.8618821936357481\n",
      "Arcade : 1.8505980591288649\n",
      "Video Players & Editors : 1.7716091175806816\n",
      "Casual : 1.7490408485669149\n",
      "Maps & Navigation : 1.399232678853532\n",
      "Food & Drink : 1.2412547957571656\n",
      "Puzzle : 1.128413450688332\n",
      "Racing : 0.9930038366057323\n",
      "Role Playing : 0.9365831640713158\n",
      "Libraries & Demo : 0.9365831640713158\n",
      "Auto & Vehicles : 0.9252990295644324\n",
      "Strategy : 0.9140148950575491\n",
      "House & Home : 0.8237418190024826\n",
      "Weather : 0.8011735499887158\n",
      "Events : 0.7109004739336493\n",
      "Adventure : 0.6770480704129994\n",
      "Comics : 0.6093432633716994\n",
      "Beauty : 0.598059128864816\n",
      "Art & Design : 0.598059128864816\n",
      "Parenting : 0.49650191830286616\n",
      "Card : 0.4400812457684496\n",
      "Casino : 0.4287971112615662\n",
      "Trivia : 0.41751297675468296\n",
      "Educational;Education : 0.3949447077409162\n",
      "Educational : 0.3723764387271496\n",
      "Board : 0.3723764387271496\n",
      "Education;Education : 0.3385240352064997\n",
      "Word : 0.2595350936583164\n",
      "Casual;Pretend Play : 0.23696682464454977\n",
      "Music : 0.2031144211238998\n",
      "Puzzle;Brain Games : 0.18054615211013314\n",
      "Racing;Action & Adventure : 0.16926201760324985\n",
      "Entertainment;Music & Video : 0.16926201760324985\n",
      "Casual;Brain Games : 0.13540961408259986\n",
      "Casual;Action & Adventure : 0.13540961408259986\n",
      "Arcade;Action & Adventure : 0.12412547957571654\n",
      "Action;Action & Adventure : 0.1015572105619499\n",
      "Educational;Pretend Play : 0.09027307605506657\n",
      "Board;Brain Games : 0.09027307605506657\n",
      "Simulation;Action & Adventure : 0.07898894154818326\n",
      "Parenting;Education : 0.07898894154818326\n",
      "Entertainment;Brain Games : 0.07898894154818326\n",
      "Parenting;Music & Video : 0.06770480704129993\n",
      "Educational;Brain Games : 0.06770480704129993\n",
      "Casual;Creativity : 0.06770480704129993\n",
      "Art & Design;Creativity : 0.06770480704129993\n",
      "Education;Pretend Play : 0.056420672534416606\n",
      "Role Playing;Pretend Play : 0.045136538027533285\n",
      "Education;Creativity : 0.045136538027533285\n",
      "Role Playing;Action & Adventure : 0.033852403520649964\n",
      "Puzzle;Action & Adventure : 0.033852403520649964\n",
      "Entertainment;Creativity : 0.033852403520649964\n",
      "Entertainment;Action & Adventure : 0.033852403520649964\n",
      "Educational;Creativity : 0.033852403520649964\n",
      "Educational;Action & Adventure : 0.033852403520649964\n",
      "Education;Music & Video : 0.033852403520649964\n",
      "Education;Brain Games : 0.033852403520649964\n",
      "Education;Action & Adventure : 0.033852403520649964\n",
      "Adventure;Action & Adventure : 0.033852403520649964\n",
      "Video Players & Editors;Music & Video : 0.022568269013766643\n",
      "Sports;Action & Adventure : 0.022568269013766643\n",
      "Simulation;Pretend Play : 0.022568269013766643\n",
      "Puzzle;Creativity : 0.022568269013766643\n",
      "Music;Music & Video : 0.022568269013766643\n",
      "Entertainment;Pretend Play : 0.022568269013766643\n",
      "Casual;Education : 0.022568269013766643\n",
      "Board;Action & Adventure : 0.022568269013766643\n",
      "Video Players & Editors;Creativity : 0.011284134506883321\n",
      "Trivia;Education : 0.011284134506883321\n",
      "Travel & Local;Action & Adventure : 0.011284134506883321\n",
      "Tools;Education : 0.011284134506883321\n",
      "Strategy;Education : 0.011284134506883321\n",
      "Strategy;Creativity : 0.011284134506883321\n",
      "Strategy;Action & Adventure : 0.011284134506883321\n",
      "Simulation;Education : 0.011284134506883321\n",
      "Role Playing;Brain Games : 0.011284134506883321\n",
      "Racing;Pretend Play : 0.011284134506883321\n",
      "Puzzle;Education : 0.011284134506883321\n",
      "Parenting;Brain Games : 0.011284134506883321\n",
      "Music & Audio;Music & Video : 0.011284134506883321\n",
      "Lifestyle;Pretend Play : 0.011284134506883321\n",
      "Lifestyle;Education : 0.011284134506883321\n",
      "Health & Fitness;Education : 0.011284134506883321\n",
      "Health & Fitness;Action & Adventure : 0.011284134506883321\n",
      "Entertainment;Education : 0.011284134506883321\n",
      "Communication;Creativity : 0.011284134506883321\n",
      "Comics;Creativity : 0.011284134506883321\n",
      "Casual;Music & Video : 0.011284134506883321\n",
      "Card;Brain Games : 0.011284134506883321\n",
      "Card;Action & Adventure : 0.011284134506883321\n",
      "Books & Reference;Education : 0.011284134506883321\n",
      "Art & Design;Pretend Play : 0.011284134506883321\n",
      "Art & Design;Action & Adventure : 0.011284134506883321\n",
      "Arcade;Pretend Play : 0.011284134506883321\n",
      "Adventure;Education : 0.011284134506883321\n"
     ]
    }
   ],
   "source": [
    "display_table(android_free, 9) # Genre"
   ]
  },
  {
   "cell_type": "markdown",
   "metadata": {
    "collapsed": true
   },
   "source": [
    "Again after looking at the genres of Google Play Store apps we can confirm that there is a much larger overlap between productive and entertaining apps. The one difference between 'category' and 'genre' is that the genre apps are a some what lower level description of what the app is, i.e., they have much more groups within the genre tag when compared to the category tag. This means it will probably be easy to work with the Category tag moving forward to get a better overall picture for apps."
   ]
  },
  {
   "cell_type": "markdown",
   "metadata": {
    "collapsed": true
   },
   "source": [
    "### Analyizing The Number of Users\n",
    "\n",
    "We can also analyze the data by looking at the number of users instead of the number of reviews. To do that we can start by calculating the average number of user ratings per app genre on the App Store. To calculate that we can:\n",
    "\n",
    "- Isolate the apps of each genre\n",
    "- Sum up the user ratings for apps of that genre\n",
    "- Divide the sum by the number of apps belonging to that genre (not by the total number of apps)."
   ]
  },
  {
   "cell_type": "code",
   "execution_count": 158,
   "metadata": {
    "collapsed": false
   },
   "outputs": [
    {
     "name": "stdout",
     "output_type": "stream",
     "text": [
      "Navigation : 86090.33333333333\n",
      "Reference : 74942.11111111111\n",
      "Social Networking : 71548.34905660378\n",
      "Music : 57326.530303030304\n",
      "Weather : 52279.892857142855\n",
      "Book : 39758.5\n",
      "Food & Drink : 33333.92307692308\n",
      "Finance : 31467.944444444445\n",
      "Photo & Video : 28441.54375\n",
      "Travel : 28243.8\n",
      "Shopping : 26919.690476190477\n",
      "Health & Fitness : 23298.015384615384\n",
      "Sports : 23008.898550724636\n",
      "Games : 22788.6696905016\n",
      "News : 21248.023255813954\n",
      "Productivity : 21028.410714285714\n",
      "Utilities : 18684.456790123455\n",
      "Lifestyle : 16485.764705882353\n",
      "Entertainment : 14029.830708661417\n",
      "Business : 7491.117647058823\n",
      "Education : 7003.983050847458\n",
      "Catalogs : 4004.0\n",
      "Medical : 612.0\n"
     ]
    }
   ],
   "source": [
    "ios_prime_genre = freq_table(ios_free, 11)\n",
    "\n",
    "def n_user_ratings(dataset, genre_dataset, genre_col, user_rate_col):\n",
    "    mydict = {}\n",
    "    for genre in genre_dataset: # prime genre key in dictionary\n",
    "        total = 0\n",
    "        len_genre = 0\n",
    "        for app in dataset:\n",
    "            genre_app = app[genre_col] # prime_genre\n",
    "            if genre == genre_app:\n",
    "                n_ratings = float(app[user_rate_col])\n",
    "                total += n_ratings\n",
    "                len_genre += 1\n",
    "        avg_n_ratings = total / len_genre\n",
    "        mydict[genre] = avg_n_ratings\n",
    "    return mydict\n",
    "\n",
    "ios_n_user_ratings = n_user_ratings(ios_free, ios_prime_genre, 11, 5)\n",
    "\n",
    "# Convert dictionary into a tuple of strings to be visualized\n",
    "# most to least number of users\n",
    "def display_general(data_dict):\n",
    "    data_display = []\n",
    "    for key, value in data_dict.items():\n",
    "        key_val_as_tuple = (value, key)\n",
    "        data_display.append(key_val_as_tuple)\n",
    "    return sorted(data_display, reverse = True)\n",
    "\n",
    "ios_display = display_general(ios_n_user_ratings)\n",
    "\n",
    "# Visualizing the sorted tuple of strings\n",
    "for entry in ios_display:\n",
    "    print(entry[1], ':', entry[0])"
   ]
  },
  {
   "cell_type": "markdown",
   "metadata": {
    "collapsed": true
   },
   "source": [
    "We can see that navigation apps have the largest number of users, but let us investigate this category a bit further."
   ]
  },
  {
   "cell_type": "code",
   "execution_count": 159,
   "metadata": {
    "collapsed": false
   },
   "outputs": [
    {
     "name": "stdout",
     "output_type": "stream",
     "text": [
      "Waze - GPS Navigation, Maps & Real-time Traffic : 345046\n",
      "Google Maps - Navigation & Transit : 154911\n",
      "Geocaching® : 12811\n",
      "CoPilot GPS – Car Navigation & Offline Maps : 3582\n",
      "ImmobilienScout24: Real Estate Search in Germany : 187\n",
      "Railway Route Search : 5\n"
     ]
    }
   ],
   "source": [
    "for row in ios_free:\n",
    "    if row[11] == 'Navigation':\n",
    "        print(row[1], ':', row[5])"
   ]
  },
  {
   "cell_type": "markdown",
   "metadata": {
    "collapsed": true
   },
   "source": [
    "After taking a closer look we can see that this category is dominated by a few select apps. The average number of ratings was skewed by a select few apps that are popular among users. This means that releasing an app in this category would likely be difficult to gain popularity compared to the two apps that dominate this category (Waze and Google Maps).\n",
    "\n",
    "Going forward, we can do the same analysis on the 'Reference' genre of the iOS apps dataset to see if there is a simliar trend with this category of apps."
   ]
  },
  {
   "cell_type": "code",
   "execution_count": 160,
   "metadata": {
    "collapsed": false
   },
   "outputs": [
    {
     "name": "stdout",
     "output_type": "stream",
     "text": [
      "Bible : 985920\n",
      "Dictionary.com Dictionary & Thesaurus : 200047\n",
      "Dictionary.com Dictionary & Thesaurus for iPad : 54175\n",
      "Google Translate : 26786\n",
      "Muslim Pro: Ramadan 2017 Prayer Times, Azan, Quran : 18418\n",
      "New Furniture Mods - Pocket Wiki & Game Tools for Minecraft PC Edition : 17588\n",
      "Merriam-Webster Dictionary : 16849\n",
      "Night Sky : 12122\n",
      "City Maps for Minecraft PE - The Best Maps for Minecraft Pocket Edition (MCPE) : 8535\n",
      "LUCKY BLOCK MOD ™ for Minecraft PC Edition - The Best Pocket Wiki & Mods Installer Tools : 4693\n",
      "GUNS MODS for Minecraft PC Edition - Mods Tools : 1497\n",
      "Guides for Pokémon GO - Pokemon GO News and Cheats : 826\n",
      "WWDC : 762\n",
      "Horror Maps for Minecraft PE - Download The Scariest Maps for Minecraft Pocket Edition (MCPE) Free : 718\n",
      "VPN Express : 14\n",
      "Real Bike Traffic Rider Virtual Reality Glasses : 8\n",
      "教えて!goo : 0\n",
      "Jishokun-Japanese English Dictionary & Translator : 0\n"
     ]
    }
   ],
   "source": [
    "for row in ios_free:\n",
    "    if row[11] == 'Reference':\n",
    "        print(row[1], ':', row[5])"
   ]
  },
  {
   "cell_type": "markdown",
   "metadata": {
    "collapsed": true
   },
   "source": [
    "A similar pattern occurs within this category of apps as well. The Bible and dictionary apps skew the category into appearing to have a large number of users per app.\n",
    "\n",
    "This same trend likely extends to social networking and music apps, where a select few giant apps (Facebook, Pinterest, Pandora, Spotify, etc) dominate the category.\n",
    "\n",
    "Our aim is to avoid these categories and find on that is not dominated by a select few giant apps so that it is more likely that our app will gain popularity within a popular category. Going forward it would be ideal to remove the giant apps and then do the analysis we just did, but that tasked will be saved for a later project.\n",
    "\n",
    "Regardless, we can conclude that an app in the category of weather or books could choices for our app recommendation as these categories are still popular, but not as dominated by a select few apps."
   ]
  },
  {
   "cell_type": "markdown",
   "metadata": {
    "collapsed": true
   },
   "source": [
    "### Popular Google Play Apps by Genre\n",
    "\n",
    "The same analysis can be done on the Google Play store data, but without all of the hard work we just did. This data is already stored within the dataset with the column name 'Installs'."
   ]
  },
  {
   "cell_type": "code",
   "execution_count": 161,
   "metadata": {
    "collapsed": false
   },
   "outputs": [
    {
     "name": "stdout",
     "output_type": "stream",
     "text": [
      "1,000,000+ : 15.741367637102236\n",
      "100,000+ : 11.554953735048521\n",
      "10,000,000+ : 10.516813360415256\n",
      "10,000+ : 10.200857594222523\n",
      "1,000+ : 8.395396073121193\n",
      "100+ : 6.917174452719477\n",
      "5,000,000+ : 6.838185511171294\n",
      "500,000+ : 5.574362446400361\n",
      "50,000+ : 4.773188896411646\n",
      "5,000+ : 4.513653802753328\n",
      "10+ : 3.5432182351613632\n",
      "500+ : 3.2498307379823967\n",
      "50,000,000+ : 2.2906793048973144\n",
      "100,000,000+ : 2.1214172872940646\n",
      "50+ : 1.9183028661701647\n",
      "5+ : 0.7898894154818324\n",
      "1+ : 0.5077860528097494\n",
      "500,000,000+ : 0.2708192281651997\n",
      "1,000,000,000+ : 0.22568269013766643\n",
      "0+ : 0.045136538027533285\n",
      "0 : 0.011284134506883321\n"
     ]
    }
   ],
   "source": [
    "display_table(android_free, 5)"
   ]
  },
  {
   "cell_type": "markdown",
   "metadata": {
    "collapsed": true
   },
   "source": [
    "The first thing that comes up after seeing that is that each app doesn't have an exact install count, but instead was put into categories of number of installs (1+, 10+, 50+, 100+, etc). This will do for our purposes though as we are just trying to get a rough idea of the popularity of the Google Play store apps, exact numbers are not critical in this situation."
   ]
  },
  {
   "cell_type": "code",
   "execution_count": 169,
   "metadata": {
    "collapsed": false
   },
   "outputs": [
    {
     "name": "stdout",
     "output_type": "stream",
     "text": [
      "COMMUNICATION : 38456119.17\n",
      "VIDEO_PLAYERS : 24727872.45\n",
      "SOCIAL : 23253652.13\n",
      "PHOTOGRAPHY : 17805627.64\n",
      "PRODUCTIVITY : 16787331.34\n",
      "GAME : 15560965.6\n",
      "TRAVEL_AND_LOCAL : 13984077.71\n",
      "ENTERTAINMENT : 11640705.88\n",
      "TOOLS : 10682301.03\n",
      "NEWS_AND_MAGAZINES : 9549178.47\n",
      "BOOKS_AND_REFERENCE : 8767811.89\n",
      "SHOPPING : 7036877.31\n",
      "PERSONALIZATION : 5201482.61\n",
      "WEATHER : 5074486.2\n",
      "HEALTH_AND_FITNESS : 4188821.99\n",
      "MAPS_AND_NAVIGATION : 4056941.77\n",
      "FAMILY : 3694276.33\n",
      "SPORTS : 3638640.14\n",
      "ART_AND_DESIGN : 1986335.09\n",
      "FOOD_AND_DRINK : 1924897.74\n",
      "EDUCATION : 1820673.08\n",
      "BUSINESS : 1712290.15\n",
      "LIFESTYLE : 1437816.27\n",
      "FINANCE : 1387692.48\n",
      "HOUSE_AND_HOME : 1331540.56\n",
      "DATING : 854028.83\n",
      "COMICS : 817657.27\n",
      "AUTO_AND_VEHICLES : 647317.82\n",
      "LIBRARIES_AND_DEMO : 638503.73\n",
      "PARENTING : 542603.62\n",
      "BEAUTY : 513151.89\n",
      "EVENTS : 253542.22\n",
      "MEDICAL : 120616.49\n"
     ]
    }
   ],
   "source": [
    "android_categories = freq_table(android_free, 1)\n",
    "\n",
    "def n_android_ratings(dataset, category_dataset, cat_col, installs_col):\n",
    "    mydict = {}\n",
    "    for category in category_dataset:\n",
    "        total = 0\n",
    "        len_category = 0\n",
    "        for app in dataset:\n",
    "            cat_app = app[cat_col]\n",
    "            if category == cat_app:\n",
    "                n_installs = app[installs_col]\n",
    "                n_installs = n_installs.replace(',', '')\n",
    "                n_installs = n_installs.replace('+', '')\n",
    "                total += float(n_installs)\n",
    "                len_category += 1\n",
    "        avg_n_installs = total / len_category\n",
    "        mydict[category] = round(avg_n_installs, 2)\n",
    "    return mydict\n",
    "\n",
    "android_installs = n_android_ratings(android_free, android_categories, 1, 5)\n",
    "\n",
    "# Displays them from highest to lowest number of installs\n",
    "android_display = display_general(android_installs)\n",
    "for entry in android_display:\n",
    "    print(entry[1], ':', entry[0])"
   ]
  },
  {
   "cell_type": "markdown",
   "metadata": {},
   "source": [
    "Doing a similar analysis as done for the iOS App Analysis, we see again a select few giants dominating the category of Communication. Even though the communications category has the most installs at over 38 billion, this number was skewed by select apps with a large number of installs (WhatsApp, Facebook Messenger, Skype, etc)."
   ]
  },
  {
   "cell_type": "code",
   "execution_count": 181,
   "metadata": {
    "collapsed": false
   },
   "outputs": [
    {
     "name": "stdout",
     "output_type": "stream",
     "text": [
      "WhatsApp Messenger : 1,000,000,000+\n",
      "Google Duo - High Quality Video Calls : 500,000,000+\n",
      "Messenger – Text and Video Chat for Free : 1,000,000,000+\n",
      "imo free video calls and chat : 500,000,000+\n",
      "Skype - free IM & video calls : 1,000,000,000+\n",
      "LINE: Free Calls & Messages : 500,000,000+\n",
      "Google Chrome: Fast & Secure : 1,000,000,000+\n",
      "UC Browser - Fast Download Private & Secure : 500,000,000+\n",
      "Gmail : 1,000,000,000+\n",
      "Hangouts : 1,000,000,000+\n",
      "Viber Messenger : 500,000,000+\n"
     ]
    }
   ],
   "source": [
    "for app in android_free:\n",
    "    if app[1] == 'COMMUNICATION' and (app[5] == '1,000,000,000+'\n",
    "                                      or app[5] == '500,000,000+'):\n",
    "        print(app[0], ':', app[5])"
   ]
  },
  {
   "cell_type": "markdown",
   "metadata": {
    "collapsed": true
   },
   "source": [
    "When these 'giants' are removed from the data we can see the number of installs goes down by a factor of 10."
   ]
  },
  {
   "cell_type": "code",
   "execution_count": 206,
   "metadata": {
    "collapsed": false
   },
   "outputs": [
    {
     "name": "stdout",
     "output_type": "stream",
     "text": [
      "38456119.17 : All installed apps\n",
      "3603485.39 : < 1 million installed apps\n"
     ]
    }
   ],
   "source": [
    "under_100_m = []\n",
    "\n",
    "for app in android_free:\n",
    "    n_installs = app[5]\n",
    "    n_installs = n_installs.replace(',', '')\n",
    "    n_installs = n_installs.replace('+', '')\n",
    "    if (app[1] == 'COMMUNICATION') and (float(n_installs) < 100000000):\n",
    "        under_100_m.append(float(n_installs))\n",
    "        \n",
    "print(android_installs['COMMUNICATION'], ': All installed apps')\n",
    "print(round(sum(under_100_m) / len(under_100_m), 2), ': < 1 million installed apps')"
   ]
  },
  {
   "cell_type": "markdown",
   "metadata": {
    "collapsed": true
   },
   "source": [
    "We see the same trend in several other categories such as video players and social. Next up is the photography category. Let's take a closer look at that."
   ]
  },
  {
   "cell_type": "code",
   "execution_count": 207,
   "metadata": {
    "collapsed": false
   },
   "outputs": [
    {
     "name": "stdout",
     "output_type": "stream",
     "text": [
      "B612 - Beauty & Filter Camera : 100,000,000+\n",
      "YouCam Makeup - Magic Selfie Makeovers : 100,000,000+\n",
      "Sweet Selfie - selfie camera, beauty cam, photo edit : 100,000,000+\n",
      "Google Photos : 1,000,000,000+\n",
      "Retrica : 100,000,000+\n",
      "Photo Editor Pro : 100,000,000+\n",
      "BeautyPlus - Easy Photo Editor & Selfie Camera : 100,000,000+\n",
      "PicsArt Photo Studio: Collage Maker & Pic Editor : 100,000,000+\n",
      "Photo Collage Editor : 100,000,000+\n",
      "Z Camera - Photo Editor, Beauty Selfie, Collage : 100,000,000+\n",
      "PhotoGrid: Video & Pic Collage Maker, Photo Editor : 100,000,000+\n",
      "Candy Camera - selfie, beauty camera, photo editor : 100,000,000+\n",
      "YouCam Perfect - Selfie Photo Editor : 100,000,000+\n",
      "Camera360: Selfie Photo Editor with Funny Sticker : 100,000,000+\n",
      "S Photo Editor - Collage Maker , Photo Collage : 100,000,000+\n",
      "AR effect : 100,000,000+\n",
      "Cymera Camera- Photo Editor, Filter,Collage,Layout : 100,000,000+\n",
      "LINE Camera - Photo editor : 100,000,000+\n",
      "Photo Editor Collage Maker Pro : 100,000,000+\n"
     ]
    }
   ],
   "source": [
    "for app in android_free:\n",
    "    if app[1] == 'PHOTOGRAPHY' and (app[5] == '1,000,000,000+'\n",
    "                                      or app[5] == '500,000,000+'\n",
    "                                      or app[5] == '100,000,000+'):\n",
    "        print(app[0], ':', app[5])"
   ]
  },
  {
   "cell_type": "code",
   "execution_count": 208,
   "metadata": {
    "collapsed": false
   },
   "outputs": [
    {
     "name": "stdout",
     "output_type": "stream",
     "text": [
      "17805627.64 : All installed apps\n",
      "7633342.21 : < 1 million installed apps\n"
     ]
    }
   ],
   "source": [
    "under_100_m = []\n",
    "\n",
    "for app in android_free:\n",
    "    n_installs = app[5]\n",
    "    n_installs = n_installs.replace(',', '')\n",
    "    n_installs = n_installs.replace('+', '')\n",
    "    if (app[1] == 'PHOTOGRAPHY') and (float(n_installs) < 100000000):\n",
    "        under_100_m.append(float(n_installs))\n",
    "        \n",
    "print(android_installs['PHOTOGRAPHY'], ': All installed apps')\n",
    "print(round(sum(under_100_m) / len(under_100_m), 2), ': < 1 million installed apps')"
   ]
  },
  {
   "cell_type": "markdown",
   "metadata": {
    "collapsed": true
   },
   "source": [
    "For the photography category it does not appear to have quite the similar problem the social, video player and communications categories had. This category has a variety of apps centered around either taking photos or editing photos using some editing software."
   ]
  },
  {
   "cell_type": "code",
   "execution_count": 216,
   "metadata": {
    "collapsed": false
   },
   "outputs": [
    {
     "name": "stdout",
     "output_type": "stream",
     "text": [
      "TouchNote: Cards & Gifts : 1,000,000+\n",
      "FreePrints – Free Photos Delivered : 1,000,000+\n",
      "Groovebook Photo Books & Gifts : 500,000+\n",
      "Moony Lab - Print Photos, Books & Magnets ™ : 50,000+\n",
      "LALALAB prints your photos, photobooks and magnets : 1,000,000+\n",
      "Snapfish : 1,000,000+\n",
      "Motorola Camera : 50,000,000+\n",
      "HD Camera - Best Cam with filters & panorama : 5,000,000+\n",
      "LightX Photo Editor & Photo Effects : 10,000,000+\n",
      "Sweet Snap - live filter, Selfie photo edit : 10,000,000+\n",
      "HD Camera - Quick Snap Photo & Video : 1,000,000+\n",
      "B612 - Beauty & Filter Camera : 100,000,000+\n",
      "Waterfall Photo Frames : 1,000,000+\n",
      "Photo frame : 100,000+\n",
      "Huji Cam : 5,000,000+\n",
      "Unicorn Photo : 1,000,000+\n",
      "HD Camera : 5,000,000+\n",
      "Makeup Editor -Beauty Photo Editor & Selfie Camera : 1,000,000+\n",
      "Makeup Photo Editor: Makeup Camera & Makeup Editor : 1,000,000+\n",
      "Moto Photo Editor : 5,000,000+\n",
      "InstaBeauty -Makeup Selfie Cam : 50,000,000+\n",
      "Garden Photo Frames - Garden Photo Editor : 500,000+\n",
      "Photo Frame : 10,000,000+\n",
      "Selfie Camera - Photo Editor & Filter & Sticker : 50,000,000+\n",
      "Sweet Snap Lite - live filter, Selfie photo editor : 500,000+\n",
      "Selfie Camera: Beauty Camera, Photo Editor,Collage : 1,000,000+\n",
      "Night Photo Frame : 1,000,000+\n",
      "YouCam Makeup - Magic Selfie Makeovers : 100,000,000+\n",
      "Selfie Photo Editor : 1,000,000+\n",
      "ASUS Gallery : 50,000,000+\n",
      "My Photo Keyboard : 10,000,000+\n",
      "Kids Photo Frames : 1,000,000+\n",
      "Pencil Photo Sketch-Sketching Drawing Photo Editor : 1,000,000+\n",
      "Pretty Makeup, Beauty Photo Editor & Snappy Camera : 5,000,000+\n",
      "Photo Collage - Layout Editor : 10,000,000+\n",
      "DSLR Camera Hd Ultra Professional : 1,000,000+\n",
      "Snap Cat Face Camera : 1,000,000+\n",
      "Silent Camera [High Quality] : 5,000,000+\n",
      "Sweet Camera - Selfie Filters, Beauty Camera : 10,000,000+\n",
      "Photo Frames : 10,000,000+\n",
      "Sweet Selfie - selfie camera, beauty cam, photo edit : 100,000,000+\n",
      "Candy selfie - photo editor, live filter camera : 10,000,000+\n",
      "Open Camera : 10,000,000+\n",
      "Beauty Makeup – Photo Makeover : 1,000,000+\n",
      "Blur Image Background Editor (Blur Photo Editor) : 5,000,000+\n",
      "Muzy - Share photos & collages : 5,000,000+\n",
      "QuickPic - Photo Gallery with Google Drive Support : 10,000,000+\n",
      "Flickr : 10,000,000+\n",
      "Camera for Android : 10,000,000+\n",
      "Photo Mixer : 10,000,000+\n",
      "Wondershare PowerCam : 10,000,000+\n",
      "love : 1,000,000+\n",
      "KVAD Camera +: Selfie, Photo Filter, Grids : 1,000,000+\n",
      "Photo Editor : 1,000,000+\n",
      "Camera51 - a smarter camera : 1,000,000+\n",
      "InstaCam - Camera for Selfie : 1,000,000+\n",
      "Sweet Camera : 5,000,000+\n",
      "RetroSelfie - Selfie Editor : 10,000,000+\n",
      "Mega Photo : 1,000,000+\n",
      "Blur Image Background : 10,000,000+\n",
      "MIX by Camera360 : 5,000,000+\n",
      "Google Photos : 1,000,000,000+\n",
      "SuperPhoto - Effects & Filters : 5,000,000+\n",
      "Camera FV-5 Lite : 10,000,000+\n",
      "HD Camera Ultra : 10,000,000+\n",
      "Cameringo Lite. Filters Camera : 10,000,000+\n",
      "Camera ZOOM FX - FREE : 5,000,000+\n",
      "HD Camera Pro for Android : 1,000,000+\n",
      "GoPro (formerly Capture) : 10,000,000+\n",
      "Beauty Makeup Snappy Collage Photo Editor - Lidow : 10,000,000+\n",
      "Samsung SMART CAMERA App : 1,000,000+\n",
      "Square InPic - Photo Editor & Collage Maker : 50,000,000+\n",
      "High-Speed Camera (GIF,Burst) : 5,000,000+\n",
      "Camera MX - Free Photo & Video Camera : 10,000,000+\n",
      "EyeEm - Camera & Photo Filter : 10,000,000+\n",
      "Retrica : 100,000,000+\n",
      "VSCO : 50,000,000+\n",
      "PhotoWonder: Pro Beauty Photo Editor Collage Maker : 50,000,000+\n",
      "Photo Effects Pro : 50,000,000+\n",
      "Photo Editor Selfie Camera Filter & Mirror Image : 50,000,000+\n",
      "No Crop & Square for Instagram : 10,000,000+\n",
      "Picture Grid Builder : 5,000,000+\n",
      "HD Camera for Android : 10,000,000+\n",
      "Photo Studio : 10,000,000+\n",
      "Photo Editor Pro : 100,000,000+\n",
      "Photo Editor- : 5,000,000+\n",
      "Mirror Photo:Editor Collage (HD) : 10,000,000+\n",
      "Pic Stitch - #1 Collage Maker : 1,000,000+\n",
      "PhotoDirector Photo Editor App : 10,000,000+\n",
      "Pic Collage - Photo Editor : 50,000,000+\n",
      "Photo Editor by Aviary : 50,000,000+\n",
      "Video Editor Music,Cut,No Crop : 50,000,000+\n",
      "Pixlr – Free Photo Editor : 50,000,000+\n",
      "Photo Collage Maker : 10,000,000+\n",
      "Adobe Photoshop Express:Photo Editor Collage Maker : 50,000,000+\n",
      "BeautyPlus - Easy Photo Editor & Selfie Camera : 100,000,000+\n",
      "PicsArt Photo Studio: Collage Maker & Pic Editor : 100,000,000+\n",
      "Photo Collage Editor : 100,000,000+\n",
      "Color Touch Effects : 10,000,000+\n",
      "InstaSize Photo Filters & Collage Editor : 50,000,000+\n",
      "Z Camera - Photo Editor, Beauty Selfie, Collage : 100,000,000+\n",
      "PhotoGrid: Video & Pic Collage Maker, Photo Editor : 100,000,000+\n",
      "Candy Camera - selfie, beauty camera, photo editor : 100,000,000+\n",
      "YouCam Perfect - Selfie Photo Editor : 100,000,000+\n",
      "Pixgram- video photo slideshow : 5,000,000+\n",
      "Fotor Photo Editor - Photo Collage & Photo Effects : 10,000,000+\n",
      "Snapseed : 50,000,000+\n",
      "Camera360: Selfie Photo Editor with Funny Sticker : 100,000,000+\n",
      "Font Studio- Photo Texts Image : 10,000,000+\n",
      "Add Text To Photo : 1,000,000+\n",
      "Phonto - Text on Photos : 10,000,000+\n",
      "Collage&Add Stickers papelook : 5,000,000+\n",
      "Shutterfly: Free Prints, Photo Books, Cards, Gifts : 5,000,000+\n",
      "Photo Collage - InstaMag : 10,000,000+\n",
      "Meitu – Beauty Cam, Easy Photo Editor : 10,000,000+\n",
      "Bestie - Camera360 Selfie : 10,000,000+\n",
      "B Tiff Viewer : 100,000+\n",
      "F-Stop Gallery : 1,000,000+\n",
      "How Do I Look : 500,000+\n",
      "Keepsafe Photo Vault: Hide Private Photos & Videos : 50,000,000+\n",
      "MakeupPlus - Your Own Virtual Makeup Artist : 50,000,000+\n",
      "Pixlr-o-matic : 10,000,000+\n",
      "PixelLab - Text on pictures : 10,000,000+\n",
      "Leica Q : 10,000+\n",
      "S Photo Editor - Collage Maker , Photo Collage : 100,000,000+\n",
      "U Camera : Phone 6s OS 9 style : 500,000+\n",
      "V.360° Camera : 100,000+\n",
      "Profile w/o crop for Telegram : 10,000+\n",
      "Z Camera : 10,000+\n",
      "Six Pack Abs Photo Editor : 1,000,000+\n",
      "Brica BPRO5 AE : 500,000+\n",
      "AfterFocus : 10,000,000+\n",
      "DSLR camera - Auto Focus and Blur Professional : 10,000+\n",
      "AR effect : 100,000,000+\n",
      "ASUS PixelMaster Camera : 10,000,000+\n",
      "easyFocus : 500,000+\n",
      "Blur Image - DSLR focus effect : 5,000,000+\n",
      "Camera Pro : 1,000,000+\n",
      "HD Camera - silent shutter : 1,000,000+\n",
      "A Better Camera : 5,000,000+\n",
      "Auto Dslr Photo Effect : Auto Focus Effect : 1,000+\n",
      "PhotoScan by Google Photos : 10,000,000+\n",
      "Afterlight : 1,000,000+\n",
      "Blurfoto : Auto blur photo background & DSLR focus : 500,000+\n",
      "Blur : 1,000,000+\n",
      "Picai - Smart AI Camera : 100,000+\n",
      "Adobe Illustrator Draw : 5,000,000+\n",
      "FaceApp : 10,000,000+\n",
      "AI Image Recognizer (beta) : 500+\n",
      "AJ Cam : 100+\n",
      "Selfie With Champion AJ Style : 500+\n",
      "A.J. Styles HD Wallpapers 2018 : 100+\n",
      "Scoompa Video - Slideshow Maker and Video Editor : 10,000,000+\n",
      "AEE AP : 1,000+\n",
      "SNOW - AR Camera : 50,000,000+\n",
      "Add Watermark Free : 1,000,000+\n",
      "camera zoom moon : 500,000+\n",
      "AZ Camera - Manual Pro Cam : 100,000+\n",
      "BC Camera : 500+\n",
      "Photo Editor by BeFunky : 10,000,000+\n",
      "Be Fabulous PHOTO BOOTH : 10,000+\n",
      "Adobe Photoshop Fix : 5,000,000+\n",
      "Photo BG Changer : 1,000+\n",
      "BG Editor : 5+\n",
      "PhotoLayers〜Superimpose,Eraser : 10,000,000+\n",
      "Blender BG - Photo Blend With Background : 100+\n",
      "Auto Background Changer : 1,000,000+\n",
      "Change photo background : 5,000,000+\n",
      "Background Eraser : 10,000,000+\n",
      "Background Changer & Eraser : 500,000+\n",
      "Cut Out : Background Eraser and background changer : 1,000,000+\n",
      "Ultimate Background Eraser : 1,000,000+\n",
      "DSLR Photography Training apps : 100,000+\n",
      "Photo Editor - BPhoto : 1,000+\n",
      "24 megapixel hd camera : 100,000+\n",
      "BK Photography : 1,000+\n",
      "BL 1-Click Camera - Free : 10,000+\n",
      "BL Portfolio : 100+\n",
      "BQ Camera : 1,000,000+\n",
      "BT Camera : 500,000+\n",
      "BlitzWolf Shutter - BW Shutter : 50,000+\n",
      "Black & White Camera - Lovely BW : 100,000+\n",
      "Analog BW - Camera filter effect foto film retouch : 100+\n",
      "Hypocam : 1,000,000+\n",
      "B&W Photo Filter Editor : 50,000+\n",
      "CB VIDEO VISION : 100+\n",
      "CB Hair Png - New Hair Png For CB Editing : 500+\n",
      "CB Edits PNG & CB Backgrounds : 5,000+\n",
      "CG Prints : 100+\n",
      "Gold Teeth Photo Editor : 100,000+\n",
      "Night Camera Blur Effect : 10,000+\n",
      "Camera V7 24 Megapixel : 100,000+\n",
      "Leica CL : 1,000+\n",
      "Canon CameraWindow : 1,000,000+\n",
      "Cymera Camera- Photo Editor, Filter,Collage,Layout : 100,000,000+\n",
      "Camera360 Lite - Selfie Camera : 10,000,000+\n",
      "Wallpaper.cz : 100+\n",
      "Face Filter, Selfie Editor - Sweet Camera : 10,000,000+\n",
      "Visage Lab – face retouch : 5,000,000+\n",
      "LC-DB-LITE : 100+\n",
      "DC-014 : 500+\n",
      "Bokeh (Background defocus) : 10,000,000+\n",
      "Love Collage - Photo Editor : 10,000,000+\n",
      "LINE Camera - Photo editor : 100,000,000+\n",
      "DF Night Selfies : 10,000+\n",
      "Story Saver for Instagram : 5,000,000+\n",
      "Boomerang from Instagram : 50,000,000+\n",
      "Insave-Download for Instagram : 1,000,000+\n",
      "DP Editor : 5,000+\n",
      "DP Maker : 100,000+\n",
      "Square DP For Whatsapp : 10,000+\n",
      "DP Creator for WhatsApp : 100,000+\n",
      "Dp For FB : 1,000+\n",
      "Magical Insta DP : 1,000+\n",
      "All Types DP & Status Maker : 1,000+\n",
      "DP Photo Editor : 10,000+\n",
      "Fifa World Cup 2018: Photo Frame Editor & DP Maker : 100,000+\n",
      "Insta Square Profile DP : 5,000+\n",
      "DP Status 2017 : 50,000+\n",
      "LightMeter Free : 1,000,000+\n",
      "DS-L4 Viewer : 1,000+\n",
      "DU GIF Maker: GIF Maker, Video to GIF & GIF Editor : 500,000+\n",
      "DU Collage Maker - Photo Collage & Grid & Layout : 100,000+\n",
      "Live DV : 1,000+\n",
      "DV-4036 by Somikon : 1,000+\n",
      "Touch DV : 50+\n",
      "XDV : 1,000,000+\n",
      "DV Lottery Photo Tool : 50,000+\n",
      "DV KING 4K : 100+\n",
      "Wifi Action Camera : 50,000+\n",
      "4K Ultra Camera : 100,000+\n",
      "DV KING : 100+\n",
      "DENVER ACTION CAM 3 : 10,000+\n",
      "SportLook : 100,000+\n",
      "Displaying You VR : 50+\n",
      "i am EB : 10+\n",
      "Retro Camera : 10,000,000+\n",
      "Footej Camera : 1,000,000+\n",
      "Video Maker with Photo and Music : 1,000,000+\n",
      "Phogy, 3D Camera : 1,000,000+\n",
      "Photo Lab Picture Editor: face effects, art frames : 50,000,000+\n",
      "MomentCam Cartoons & Stickers : 50,000,000+\n",
      "A+ Gallery - Photos & Videos : 10,000,000+\n",
      "Light Meter - EV : 1,000+\n",
      "FilterGrid - Cam&Photo Editor : 1,000,000+\n",
      "ez Share Android app : 100,000+\n",
      "Ez iCam : 1,000,000+\n",
      "Facejjang : 10,000,000+\n",
      "Cover Camera for FB : 100,000+\n",
      "FB Photographie : 1,000+\n",
      "FD Fotografia : 100+\n",
      "Ghost In Photo : 5,000,000+\n",
      "FH WiFiCam : 10,000+\n",
      "PIP Selfie Camera Photo Editor : 10,000,000+\n",
      "FL Drone 2 : 5,000+\n",
      "FN Cam : 10,000+\n",
      "PIP-Camera FN Photo Effect : 1,000+\n",
      "Photo Editor Collage Maker Pro : 100,000,000+\n",
      "Free Slideshow Maker & Video Editor : 10,000,000+\n",
      "Thumbnail Maker : 1,000,000+\n",
      "PhotoFunia : 10,000,000+\n"
     ]
    }
   ],
   "source": [
    "for app in android_free:\n",
    "    if app[1] == 'PHOTOGRAPHY':\n",
    "        print(app[0], ':', app[5])"
   ]
  },
  {
   "cell_type": "markdown",
   "metadata": {
    "collapsed": true
   },
   "source": [
    "Editing photos is a fairly common technology and would not be too difficult to put into an app. But before we recommend this let us double check to see the popularity of these apps in the iOS App Store."
   ]
  },
  {
   "cell_type": "code",
   "execution_count": 217,
   "metadata": {
    "collapsed": false
   },
   "outputs": [
    {
     "name": "stdout",
     "output_type": "stream",
     "text": [
      "Instagram : 2161558\n",
      "Snapchat : 323905\n",
      "YouTube - Watch Videos, Music, and Live Streams : 278166\n",
      "Pic Collage - Picture Editor & Photo Collage Maker : 123433\n",
      "Funimate video editor: add cool effects to videos : 123268\n",
      "musical.ly - your video social network : 105429\n",
      "Photo Collage Maker & Photo Editor - Live Collage : 93781\n",
      "Vine Camera : 90355\n",
      "Google Photos - unlimited photo and video storage : 88742\n",
      "Flipagram : 79905\n",
      "Mixgram - Picture Collage Maker - Pic Photo Editor : 54282\n",
      "Shutterfly: Prints, Photo Books, Cards Made Easy : 51427\n",
      "Pic Jointer – Photo Collage, Camera Effects Editor : 51330\n",
      "Color Pop Effects - Photo Editor & Picture Editing : 45320\n",
      "Photo Grid - photo collage maker & photo editor : 40531\n",
      "iSwap Faces LITE : 39722\n",
      "MOLDIV - Photo Editor, Collage & Beauty Camera : 39501\n",
      "Photo Editor by Aviary : 39501\n",
      "Photo Lab: Picture Editor, effects & fun face app : 34585\n",
      "Rookie Cam - Photo Editor & Filter Camera : 33921\n",
      "FotoRus -Camera & Photo Editor & Pic Collage Maker : 32558\n",
      "PicsArt Photo Studio: Collage Maker & Pic Editor : 29078\n",
      "Quik – GoPro Video Editor to edit clips with music : 28654\n",
      "Splice - Video Editor + Movie Maker by GoPro : 28189\n",
      "FreePrints – Photos Delivered : 26060\n",
      "Triller - Music Video & Film Maker : 25683\n",
      "Ghost Lens+Scary Photo Video Edit&Collage Maker : 18316\n",
      "Camera360 - Selfie Filter Camera, Photo Editor : 16729\n",
      "InstaMag - Free Pic and Photo Collage Maker : 16221\n",
      "Over— Edit Photos, Add Text & Captions to Pictures : 16221\n",
      "Photo Transfer App - Easy backup of photos+videos : 15654\n",
      "InstaSize: Photo Editor, Picture Effects & Collage : 15605\n",
      "Prisma: Photo Editor, Art Filters Pic Effects : 15060\n",
      "Filterra – Photo Editor, Effects for Pictures : 14744\n",
      "YouCam Makeup: Magic Makeup Selfie Cam : 14188\n",
      "MSQRD — Live Filters & Face Swap for Video Selfies : 12982\n",
      "Artisto – Video and Photo Editor with Art Filters : 12963\n",
      "InShot Video Editor Music, No Crop, Cut : 12779\n",
      "Layout from Instagram : 12616\n",
      "Face Swap App- Funny Face Changer Photo Effects : 11977\n",
      "Moments - private albums with friends and family : 11955\n",
      "VSCO : 11174\n",
      "Retrica - Selfie Camera with Filter, Sticker & GIF : 11021\n",
      "VivaVideo - Best Video Editor & Photo Movie Maker : 10618\n",
      "Prime Photos from Amazon : 10511\n",
      "Canva - Graphic Design & Photo Editing : 9114\n",
      "Photo Editor- : 9095\n",
      "Snapseed : 8683\n",
      "You Doodle - draw on photos & pictures, add text : 8520\n",
      "PIP Camera-Selfie Cam&Pic Collage&Photo Editor : 8454\n",
      "BeautyPlus - Selfie Camera for a Beautiful Image : 7503\n",
      "Baby Story - Pregnancy Pics Baby Milestones Photo : 6700\n",
      "Capture - Control Your GoPro Camera - Share Video : 6542\n",
      "Meitu : 6478\n",
      "Visage makeup editor plus photo teeth whitener : 5767\n",
      "Video & TV Cast for Chromecast: Best Browser to cast and stream webvideos and local videos on TV & Displays : 5676\n",
      "Adobe Photoshop Mix - Cut out, combine, create : 5253\n",
      "Collageable - Photo Collage Maker, Pic Grid Free : 5112\n",
      "Bazaart Photo Editor Pro and Picture Collage Maker : 4909\n",
      "InstaBeauty -Camera&Photo Editor&Pic Collage Maker : 4818\n",
      "YouCam Perfect - Photo & Selfie Editor : 4293\n",
      "PHHHOTO - Look Alive : 4280\n",
      "MuseCam - Edit Photos & Manual Camera : 4267\n",
      "VR Tube - Virtual Reality 360 Video Player : 4142\n",
      "Fyuse - 3D Photos : 4126\n",
      "MakeupPlus - Natural, Professional Makeup Looks : 3987\n",
      "LINE Camera - Photo editor, Animated Stamp, Filter : 3978\n",
      "Printicular Print Photos - 1 Hour Pickup : 3909\n",
      "Lumyer - augmented reality camera effects : 3896\n",
      "KODAK Kiosk Connect App : 3711\n",
      "Cool Wallpapers for Pokemon : 3694\n",
      "Pro Editor - Video Maker for FaceBook & Youtube : 3668\n",
      "Lomotif Music Video Editor - Add Music & Effects! : 3507\n",
      "Epson iPrint : 2838\n",
      "YouCam Fun - Live Selfie Video Filters : 2522\n",
      "A Color Story : 2436\n",
      "Boomerang from Instagram : 2373\n",
      "B612 - Trendy Filters, Selfiegenic Camera : 2275\n",
      "Polarr Photo Editor - Photo Editing Tools for All : 2246\n",
      "Retouch Vogue - Facetune Wrinkles & Pimples Makeup : 2235\n",
      "Kanvas - Express Yourself : 2177\n",
      "Easy Save - Repost your Instagram Photos & Videos : 2159\n",
      "Meitu HD : 2150\n",
      "Pixlr - Photo Collages, Effects, Overlays, Filters : 2099\n",
      "Patternator Pattern Maker Backgrounds & Wallpapers : 2092\n",
      "BeautyCam - AR Carnie selfie : 2082\n",
      "GIPHY. The GIF Search Engine for All the GIFs : 2069\n",
      "Adobe Photoshop Lightroom for iPad : 2005\n",
      "SuperPhoto - Photo Effects & Filters : 1952\n",
      "Solo Selfie : 1799\n",
      "Felt: Birthday & Greeting Cards & Thank You Card : 1724\n",
      "Perfect Image - Pic Collage Maker, Add Text to Photo, Cool Picture Editor : 1646\n",
      "InstaBoard  for Instagram - photos & videos repost : 1571\n",
      "Adobe Photoshop Lightroom for iPhone : 1494\n",
      "PhotoScan - scanner by Google Photos : 1421\n",
      "RealTimes: Video Maker : 1274\n",
      "Meipai : 1190\n",
      "POTO - Photo Collage Maker : 1149\n",
      "SNOW - Selfie, Motion sticker, Fun camera : 1115\n",
      "Bestie-Beauty Camera 360 & Portrait Selfie Editor : 1035\n",
      "Facetune 2 : 1009\n",
      "Pitu : 968\n",
      "intoLive - Custom Live Photos wallpaper maker : 938\n",
      "LOL Movie: Change your face + voice! : 849\n",
      "Camcorder - Record VHS Home Videos : 830\n",
      "Anime Power FX : 807\n",
      "Squaready for Video - Convert Rectangle Movie Clip into Square Shape for Instagram : 778\n",
      "Canon PRINT Inkjet/SELPHY : 689\n",
      "Microsoft Pix Camera : 678\n",
      "Kwai - Share your video moments : 668\n",
      "Polaroid Print App - ZIP : 631\n",
      "Photo Quilt - Auto Collage Maker : 599\n",
      "Cymera - Photo & Beauty Editor & Collage : 523\n",
      "FACIE : 514\n",
      "Photo Editing Effects & Collage Maker - Effectshop : 422\n",
      "Pic-it Collage - Photo Collage Maker and Editor : 415\n",
      "Candy Camera : 397\n",
      "Microsoft Selfie : 375\n",
      "Color Pop Free - Selective Color Splash Effects and Black & White Photography Editor : 352\n",
      "SelfieCity : 252\n",
      "InstaSave for Instagram - Download & Repost your own Videos & Photos for Free : 243\n",
      "CATCHY Photos-Easter Bunny, Tooth Fairy and more.. : 228\n",
      "SW/NG - Living Photos. Memories that Swing. : 222\n",
      "SlideStory - Create a slideshow movie and a snap video : 220\n",
      "April - Layouts, Photo Collage, and Poster Maker : 165\n",
      "PopCam　Photo : 160\n",
      "Foodie - Delicious Camera for Food : 144\n",
      "FreeVRPlayer : 134\n",
      "Confetti - Geofilter Design Maker for Snapchat : 120\n",
      "Philm-Video&Photo Editor,REAL-TIME Magic Filter : 103\n",
      "Digital Domain : 102\n",
      "Homido 360 VR player : 100\n",
      "Best 9 for Instagram : 88\n",
      "VR Video World - Virtual Reality : 88\n",
      "FilmStory - For All Your Video Editing Needs : 66\n",
      "GIFYme - Create video loops and gifs with amazing filters for Whatsapp and Instagram : 65\n",
      "Kiosk Photo Transfer by Fujifilm : 58\n",
      "Pikazo – AI art that YOU control : 56\n",
      "lollicam - photo, video, and selfie camera : 51\n",
      "LOOKS - Real Makeup Camera : 25\n",
      "C CHANNEL -Watch tips & tricks videos for girls : 21\n",
      "in-capturing moments in life : 16\n",
      "Everfilter - transform your photos into artworks : 15\n",
      "GoSnaps - Share Screenshots for Pokémon GO : 12\n",
      "NightShooting : 9\n",
      "MixChannel : 6\n",
      "Simple Camera - Fast Minimal Design : 3\n",
      "SwapperFace - Face Swap Free, Live Mask Effects : 2\n",
      "LINE Moments - Capture Your Fun Moments : 1\n",
      "Video speed editor - VBooster : 1\n",
      "Video Smith - A Powerful video editing tool set : 1\n",
      "MeiCam -  Video Production Master : 0\n",
      "Instant X - Take instant-camera-like photo with double exposure and bulb mode : 0\n",
      "EOPAN : 0\n",
      "StageCameraHD : 0\n",
      "Pictalive for Live Photos - Create from videos : 0\n",
      "BlurEffect-Blur Photo & Video, Hide Face : 0\n",
      "camera for filter : 0\n",
      "Emojil - original emoji stamp, decoration camera : 0\n",
      "CelebrityDiagnosis! : 0\n"
     ]
    }
   ],
   "source": [
    "for row in ios_free:\n",
    "    if row[11] == 'Photo & Video':\n",
    "        print(row[1], ':', row[5])"
   ]
  },
  {
   "cell_type": "markdown",
   "metadata": {
    "collapsed": true
   },
   "source": [
    "Good thing the iOS Store was checked first because it clearly shows this category is dominated by the Instagram and Snapchat apps. \n",
    "\n",
    "Next choice of potential recommendations would be the Books and Refrences app"
   ]
  },
  {
   "cell_type": "code",
   "execution_count": 218,
   "metadata": {
    "collapsed": false
   },
   "outputs": [
    {
     "name": "stdout",
     "output_type": "stream",
     "text": [
      "Google Play Books : 1,000,000,000+\n",
      "Bible : 100,000,000+\n",
      "Amazon Kindle : 100,000,000+\n",
      "Wattpad 📖 Free Books : 100,000,000+\n",
      "Audiobooks from Audible : 100,000,000+\n"
     ]
    }
   ],
   "source": [
    "for app in android_free:\n",
    "    if app[1] == 'BOOKS_AND_REFERENCE' and (app[5] == '1,000,000,000+'\n",
    "                                            or app[5] == '500,000,000+'\n",
    "                                            or app[5] == '100,000,000+'):\n",
    "        print(app[0], ':', app[5])"
   ]
  },
  {
   "cell_type": "markdown",
   "metadata": {
    "collapsed": true
   },
   "source": [
    "While still dominated by a select few apps that are incredibly popular apps it doesn't have the same drastic contrast as the Communications, Video Players and Social Networking categories."
   ]
  },
  {
   "cell_type": "code",
   "execution_count": 219,
   "metadata": {
    "collapsed": false
   },
   "outputs": [
    {
     "name": "stdout",
     "output_type": "stream",
     "text": [
      "8767811.89 : All installed apps\n",
      "1437212.22 : < 1 million installed apps\n"
     ]
    }
   ],
   "source": [
    "under_100_m = []\n",
    "\n",
    "for app in android_free:\n",
    "    n_installs = app[5]\n",
    "    n_installs = n_installs.replace(',', '')\n",
    "    n_installs = n_installs.replace('+', '')\n",
    "    if (app[1] == 'BOOKS_AND_REFERENCE') and (float(n_installs) < 100000000):\n",
    "        under_100_m.append(float(n_installs))\n",
    "        \n",
    "print(android_installs['BOOKS_AND_REFERENCE'], ': All installed apps')\n",
    "print(round(sum(under_100_m) / len(under_100_m), 2), ': < 1 million installed apps')"
   ]
  },
  {
   "cell_type": "markdown",
   "metadata": {
    "collapsed": true
   },
   "source": [
    "However, it looks like there are only a few very popular apps, so this market still shows potential. Let's try to get some app ideas based on the kind of apps that are somewhere in the middle in terms of popularity (between 1,000,000 and 100,000,000 downloads):"
   ]
  },
  {
   "cell_type": "code",
   "execution_count": 221,
   "metadata": {
    "collapsed": false
   },
   "outputs": [
    {
     "name": "stdout",
     "output_type": "stream",
     "text": [
      "Wikipedia : 10,000,000+\n",
      "Cool Reader : 10,000,000+\n",
      "Book store : 1,000,000+\n",
      "FBReader: Favorite Book Reader : 10,000,000+\n",
      "Free Books - Spirit Fanfiction and Stories : 1,000,000+\n",
      "AlReader -any text book reader : 5,000,000+\n",
      "FamilySearch Tree : 1,000,000+\n",
      "Cloud of Books : 1,000,000+\n",
      "ReadEra – free ebook reader : 1,000,000+\n",
      "Ebook Reader : 5,000,000+\n",
      "Read books online : 5,000,000+\n",
      "eBoox: book reader fb2 epub zip : 1,000,000+\n",
      "All Maths Formulas : 1,000,000+\n",
      "Ancestry : 5,000,000+\n",
      "HTC Help : 10,000,000+\n",
      "Moon+ Reader : 10,000,000+\n",
      "English-Myanmar Dictionary : 1,000,000+\n",
      "Golden Dictionary (EN-AR) : 1,000,000+\n",
      "All Language Translator Free : 1,000,000+\n",
      "Aldiko Book Reader : 10,000,000+\n",
      "Dictionary - WordWeb : 5,000,000+\n",
      "50000 Free eBooks & Free AudioBooks : 5,000,000+\n",
      "Al-Quran (Free) : 10,000,000+\n",
      "Al Quran Indonesia : 10,000,000+\n",
      "Al'Quran Bahasa Indonesia : 10,000,000+\n",
      "Al Quran Al karim : 1,000,000+\n",
      "Al Quran : EAlim - Translations & MP3 Offline : 5,000,000+\n",
      "Koran Read &MP3 30 Juz Offline : 1,000,000+\n",
      "Hafizi Quran 15 lines per page : 1,000,000+\n",
      "Quran for Android : 10,000,000+\n",
      "Satellite AR : 1,000,000+\n",
      "Oxford A-Z of English Usage : 1,000,000+\n",
      "Dictionary.com: Find Definitions for English Words : 10,000,000+\n",
      "English Dictionary - Offline : 10,000,000+\n",
      "Bible KJV : 5,000,000+\n",
      "NOOK: Read eBooks & Magazines : 10,000,000+\n",
      "Brilliant Quotes: Life, Love, Family & Motivation : 1,000,000+\n",
      "Stats Royale for Clash Royale : 1,000,000+\n",
      "Dictionary : 10,000,000+\n",
      "wikiHow: how to do anything : 1,000,000+\n",
      "EGW Writings : 1,000,000+\n",
      "My Little Pony AR Guide : 1,000,000+\n",
      "Spanish English Translator : 10,000,000+\n",
      "Dictionary - Merriam-Webster : 10,000,000+\n",
      "JW Library : 10,000,000+\n",
      "Oxford Dictionary of English : Free : 10,000,000+\n",
      "English Hindi Dictionary : 10,000,000+\n",
      "English to Hindi Dictionary : 5,000,000+\n"
     ]
    }
   ],
   "source": [
    "for app in android_free:\n",
    "    if app[1] == 'BOOKS_AND_REFERENCE' and (app[5] == '1,000,000+'\n",
    "                                            or app[5] == '5,000,000+'\n",
    "                                            or app[5] == '10,000,000+'\n",
    "                                            or app[5] == '50,000,000+'):\n",
    "        print(app[0], ':', app[5])"
   ]
  },
  {
   "cell_type": "markdown",
   "metadata": {
    "collapsed": true
   },
   "source": [
    "This niche seems to be dominated by software for processing and reading ebooks, as well as various collections of libraries and dictionaries, so it's probably not a good idea to build similar apps since there'll be some significant competition.\n",
    "\n",
    "We also notice there are quite a few apps built around the book Quran, which suggests that building an app around a popular book can be profitable. It seems that taking a popular book (perhaps a more recent book) and turning it into an app could be profitable for both the Google Play and the App Store markets.\n",
    "\n",
    "However, it looks like the market is already full of libraries, so we need to add some special features besides the raw version of the book. This might include daily quotes from the book, an audio version of the book, quizzes on the book, a forum where people can discuss the book, etc."
   ]
  },
  {
   "cell_type": "markdown",
   "metadata": {
    "collapsed": true
   },
   "source": [
    "## Conclusions\n",
    "\n",
    "In this project, we analyzed data about the App Store and Google Play mobile apps with the goal of recommending an app profile that can be profitable for both markets.\n",
    "\n",
    "We concluded that taking a popular book (perhaps a more recent book) and turning it into an app could be profitable for both the Google Play and the App Store markets. The markets are already full of libraries, so we need to add some special features besides the raw version of the book. This might include daily quotes from the book, an audio version of the book, quizzes on the book, a forum where people can discuss the book, etc."
   ]
  },
  {
   "cell_type": "code",
   "execution_count": null,
   "metadata": {
    "collapsed": true
   },
   "outputs": [],
   "source": []
  },
  {
   "cell_type": "code",
   "execution_count": null,
   "metadata": {
    "collapsed": true
   },
   "outputs": [],
   "source": []
  },
  {
   "cell_type": "code",
   "execution_count": null,
   "metadata": {
    "collapsed": true
   },
   "outputs": [],
   "source": []
  },
  {
   "cell_type": "code",
   "execution_count": null,
   "metadata": {
    "collapsed": true
   },
   "outputs": [],
   "source": []
  }
 ],
 "metadata": {
  "kernelspec": {
   "display_name": "Python 3",
   "language": "python",
   "name": "python3"
  },
  "language_info": {
   "codemirror_mode": {
    "name": "ipython",
    "version": 3
   },
   "file_extension": ".py",
   "mimetype": "text/x-python",
   "name": "python",
   "nbconvert_exporter": "python",
   "pygments_lexer": "ipython3",
   "version": "3.4.3"
  }
 },
 "nbformat": 4,
 "nbformat_minor": 2
}
